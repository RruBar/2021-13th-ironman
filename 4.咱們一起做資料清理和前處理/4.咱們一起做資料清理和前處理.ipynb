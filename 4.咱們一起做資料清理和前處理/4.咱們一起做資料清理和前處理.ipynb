{
 "cells": [
  {
   "cell_type": "code",
   "execution_count": 1,
   "metadata": {},
   "outputs": [],
   "source": [
    "import pandas as pd\n",
    "import numpy as np\n",
    "import matplotlib.pyplot as plt\n",
    "import seaborn as sns\n",
    "from sklearn.datasets import load_iris\n",
    "\n",
    "np.set_printoptions(suppress=True)"
   ]
  },
  {
   "cell_type": "markdown",
   "metadata": {},
   "source": [
    "## 1) 載入資料集"
   ]
  },
  {
   "cell_type": "code",
   "execution_count": 2,
   "metadata": {},
   "outputs": [
    {
     "data": {
      "text/html": [
       "<div>\n",
       "<style scoped>\n",
       "    .dataframe tbody tr th:only-of-type {\n",
       "        vertical-align: middle;\n",
       "    }\n",
       "\n",
       "    .dataframe tbody tr th {\n",
       "        vertical-align: top;\n",
       "    }\n",
       "\n",
       "    .dataframe thead th {\n",
       "        text-align: right;\n",
       "    }\n",
       "</style>\n",
       "<table border=\"1\" class=\"dataframe\">\n",
       "  <thead>\n",
       "    <tr style=\"text-align: right;\">\n",
       "      <th></th>\n",
       "      <th>SepalLengthCm</th>\n",
       "      <th>SepalWidthCm</th>\n",
       "      <th>PetalLengthCm</th>\n",
       "      <th>PetalWidthCm</th>\n",
       "      <th>Species</th>\n",
       "    </tr>\n",
       "  </thead>\n",
       "  <tbody>\n",
       "    <tr>\n",
       "      <th>0</th>\n",
       "      <td>5.1</td>\n",
       "      <td>3.5</td>\n",
       "      <td>1.4</td>\n",
       "      <td>0.2</td>\n",
       "      <td>0.0</td>\n",
       "    </tr>\n",
       "    <tr>\n",
       "      <th>1</th>\n",
       "      <td>4.9</td>\n",
       "      <td>3.0</td>\n",
       "      <td>1.4</td>\n",
       "      <td>0.2</td>\n",
       "      <td>0.0</td>\n",
       "    </tr>\n",
       "    <tr>\n",
       "      <th>2</th>\n",
       "      <td>4.7</td>\n",
       "      <td>3.2</td>\n",
       "      <td>1.3</td>\n",
       "      <td>0.2</td>\n",
       "      <td>0.0</td>\n",
       "    </tr>\n",
       "    <tr>\n",
       "      <th>3</th>\n",
       "      <td>4.6</td>\n",
       "      <td>3.1</td>\n",
       "      <td>1.5</td>\n",
       "      <td>0.2</td>\n",
       "      <td>0.0</td>\n",
       "    </tr>\n",
       "    <tr>\n",
       "      <th>4</th>\n",
       "      <td>5.0</td>\n",
       "      <td>3.6</td>\n",
       "      <td>1.4</td>\n",
       "      <td>0.2</td>\n",
       "      <td>0.0</td>\n",
       "    </tr>\n",
       "    <tr>\n",
       "      <th>...</th>\n",
       "      <td>...</td>\n",
       "      <td>...</td>\n",
       "      <td>...</td>\n",
       "      <td>...</td>\n",
       "      <td>...</td>\n",
       "    </tr>\n",
       "    <tr>\n",
       "      <th>145</th>\n",
       "      <td>6.7</td>\n",
       "      <td>3.0</td>\n",
       "      <td>5.2</td>\n",
       "      <td>2.3</td>\n",
       "      <td>2.0</td>\n",
       "    </tr>\n",
       "    <tr>\n",
       "      <th>146</th>\n",
       "      <td>6.3</td>\n",
       "      <td>2.5</td>\n",
       "      <td>5.0</td>\n",
       "      <td>1.9</td>\n",
       "      <td>2.0</td>\n",
       "    </tr>\n",
       "    <tr>\n",
       "      <th>147</th>\n",
       "      <td>6.5</td>\n",
       "      <td>3.0</td>\n",
       "      <td>5.2</td>\n",
       "      <td>2.0</td>\n",
       "      <td>2.0</td>\n",
       "    </tr>\n",
       "    <tr>\n",
       "      <th>148</th>\n",
       "      <td>6.2</td>\n",
       "      <td>3.4</td>\n",
       "      <td>5.4</td>\n",
       "      <td>2.3</td>\n",
       "      <td>2.0</td>\n",
       "    </tr>\n",
       "    <tr>\n",
       "      <th>149</th>\n",
       "      <td>5.9</td>\n",
       "      <td>3.0</td>\n",
       "      <td>5.1</td>\n",
       "      <td>1.8</td>\n",
       "      <td>2.0</td>\n",
       "    </tr>\n",
       "  </tbody>\n",
       "</table>\n",
       "<p>150 rows × 5 columns</p>\n",
       "</div>"
      ],
      "text/plain": [
       "     SepalLengthCm  SepalWidthCm  PetalLengthCm  PetalWidthCm  Species\n",
       "0              5.1           3.5            1.4           0.2      0.0\n",
       "1              4.9           3.0            1.4           0.2      0.0\n",
       "2              4.7           3.2            1.3           0.2      0.0\n",
       "3              4.6           3.1            1.5           0.2      0.0\n",
       "4              5.0           3.6            1.4           0.2      0.0\n",
       "..             ...           ...            ...           ...      ...\n",
       "145            6.7           3.0            5.2           2.3      2.0\n",
       "146            6.3           2.5            5.0           1.9      2.0\n",
       "147            6.5           3.0            5.2           2.0      2.0\n",
       "148            6.2           3.4            5.4           2.3      2.0\n",
       "149            5.9           3.0            5.1           1.8      2.0\n",
       "\n",
       "[150 rows x 5 columns]"
      ]
     },
     "execution_count": 2,
     "metadata": {},
     "output_type": "execute_result"
    }
   ],
   "source": [
    "iris = load_iris()\n",
    "df_data = pd.DataFrame(data= np.c_[iris['data'], iris['target']],\n",
    "                     columns= ['SepalLengthCm','SepalWidthCm','PetalLengthCm','PetalWidthCm','Species'])\n",
    "df_data"
   ]
  },
  {
   "cell_type": "markdown",
   "metadata": {},
   "source": [
    "## 2) 檢查缺失值\n",
    "使用 numpy 所提供的函式來檢查是否有 NA 缺失值，假設有缺失值使用dropna()來移除。使用的時機在於當只有少量的缺失值適用，若遇到有大量缺失值的情況，或是本身的資料量就很少的情況下建議可以透過機器學習的方法補值來預測缺失值。\n",
    "\n",
    "```python\n",
    "# 移除缺失值\n",
    "df_data=df_data.dropna()\n",
    "```"
   ]
  },
  {
   "cell_type": "code",
   "execution_count": 3,
   "metadata": {},
   "outputs": [
    {
     "name": "stdout",
     "output_type": "stream",
     "text": [
      "checked missing data(NAN mount): 0\n"
     ]
    }
   ],
   "source": [
    "X = df_data.drop(labels=['Species'],axis=1).values # 移除Species並取得剩下欄位資料\n",
    "y = df_data['Species']\n",
    "# checked missing data\n",
    "print(\"checked missing data(NAN mount):\",len(np.where(np.isnan(X))[0]))"
   ]
  },
  {
   "cell_type": "code",
   "execution_count": 4,
   "metadata": {},
   "outputs": [
    {
     "name": "stdout",
     "output_type": "stream",
     "text": [
      "<class 'pandas.core.frame.DataFrame'>\n",
      "RangeIndex: 150 entries, 0 to 149\n",
      "Data columns (total 5 columns):\n",
      " #   Column         Non-Null Count  Dtype  \n",
      "---  ------         --------------  -----  \n",
      " 0   SepalLengthCm  150 non-null    float64\n",
      " 1   SepalWidthCm   150 non-null    float64\n",
      " 2   PetalLengthCm  150 non-null    float64\n",
      " 3   PetalWidthCm   150 non-null    float64\n",
      " 4   Species        150 non-null    float64\n",
      "dtypes: float64(5)\n",
      "memory usage: 6.0 KB\n"
     ]
    }
   ],
   "source": [
    "df_data.info()"
   ]
  },
  {
   "cell_type": "markdown",
   "metadata": {},
   "source": [
    "## 3) 切割訓練集與測試集"
   ]
  },
  {
   "cell_type": "code",
   "execution_count": 38,
   "metadata": {},
   "outputs": [
    {
     "name": "stdout",
     "output_type": "stream",
     "text": [
      "train shape: (105, 4)\n",
      "test shape: (45, 4)\n",
      "[[5.1 2.5 3.  1.1]\n",
      " [6.2 2.2 4.5 1.5]\n",
      " [5.1 3.8 1.5 0.3]]\n"
     ]
    }
   ],
   "source": [
    "from sklearn.model_selection import train_test_split\n",
    "\n",
    "X_train, X_test, y_train, y_test = train_test_split(X, y, test_size=0.3, random_state=42, stratify=y)\n",
    "# random_state : 若想要每次程式執行時切割結果都是一樣的可以設定亂數隨機種子 random_state 並給予一個隨機數值\n",
    "# stratify : 分層隨機抽樣，特別是在原始數據中樣本標籤分佈不均衡時非常有用。\n",
    "\n",
    "print('train shape:', X_train.shape)\n",
    "print('test shape:', X_test.shape)\n"
   ]
  },
  {
   "cell_type": "markdown",
   "metadata": {},
   "source": [
    "## 資料前處理\n",
    "- [Standardization平均&變異數標準化](#Standardization平均&變異數標準化)\n",
    "- [MinMaxScaler最小最大值標準化](#MinMaxScaler最小最大值標準化)\n",
    "- [MaxAbsScaler絕對值最大標準化](#MaxAbsScaler絕對值最大標準化)\n",
    "- [RobustScaler](#RobustScaler)"
   ]
  },
  {
   "cell_type": "markdown",
   "metadata": {},
   "source": [
    "### Standardization平均&變異數標準化\n",
    "將所有特徵標準化，也就是高斯分佈。使得數據的平均值為0，方差為1。\n",
    "適合的使用時機於當有些特徵的方差過大時，使用標準化能夠有效地讓模型快速收斂。"
   ]
  },
  {
   "cell_type": "code",
   "execution_count": 41,
   "metadata": {},
   "outputs": [
    {
     "name": "stdout",
     "output_type": "stream",
     "text": [
      "[[-0.90045861 -1.22024754 -0.4419858  -0.13661044]\n",
      " [ 0.38036614 -1.87955796  0.40282929  0.38029394]\n",
      " [-0.90045861  1.63676428 -1.2868009  -1.17041921]\n",
      " [ 1.07899781  0.31814344  1.19132338  1.41410271]\n",
      " [-0.20182693 -0.56093712  0.17754527  0.12184175]\n",
      " [ 0.9625592  -0.12139684  0.79707634  1.41410271]\n",
      " [-1.13333583  0.0983733  -1.2868009  -1.4288714 ]\n",
      " [-0.90045861  1.63676428 -1.23047989 -1.29964531]\n",
      " [-1.7155289  -0.34116698 -1.3431219  -1.29964531]\n",
      " [ 1.42831365 -0.12139684  1.19132338  1.15565051]\n",
      " [ 0.72968197  0.31814344  0.74075533  1.02642442]\n",
      " [-1.13333583 -0.12139684 -1.3431219  -1.29964531]\n",
      " [-1.01689722 -0.12139684 -1.23047989 -1.29964531]\n",
      " [ 0.14748891 -0.34116698  0.40282929  0.38029394]\n",
      " [-0.43470415 -1.44001768  0.00858225 -0.13661044]\n",
      " [ 1.54475226  0.31814344  1.24764439  0.76797223]\n",
      " [-1.01689722  0.75768372 -1.23047989 -1.04119311]\n",
      " [-1.36621306  0.31814344 -1.23047989 -1.29964531]\n",
      " [ 0.9625592   0.53791358  1.07868137  1.6725549 ]\n",
      " [ 0.0310503   0.31814344  0.57179231  0.76797223]\n",
      " [-0.55114277  0.75768372 -1.2868009  -1.04119311]\n",
      " [ 0.49680475 -0.78070726  0.62811332  0.76797223]\n",
      " [ 2.01050671 -0.12139684  1.58557043  1.15565051]\n",
      " [ 2.12694533 -0.56093712  1.64189143  1.02642442]\n",
      " [-0.20182693 -0.12139684  0.23386627 -0.00738435]\n",
      " [-1.48265167  0.75768372 -1.3431219  -1.17041921]\n",
      " [-0.90045861  1.41699414 -1.2868009  -1.04119311]\n",
      " [-0.55114277  1.85653442 -1.39944291 -1.04119311]\n",
      " [ 1.19543642  0.0983733   0.62811332  0.38029394]\n",
      " [-0.43470415 -1.22024754  0.12122426  0.12184175]\n",
      " [-0.20182693  2.95538512 -1.2868009  -1.04119311]\n",
      " [-0.90045861  0.97745386 -1.3431219  -1.17041921]\n",
      " [-0.08538832 -0.78070726  0.17754527 -0.26583654]\n",
      " [-0.31826554 -0.34116698 -0.10405976  0.12184175]\n",
      " [-1.24977444 -0.12139684 -1.3431219  -1.4288714 ]\n",
      " [-1.24977444 -0.12139684 -1.3431219  -1.17041921]\n",
      " [ 0.9625592   0.0983733   0.34650829  0.25106784]\n",
      " [ 0.49680475 -1.22024754  0.68443432  0.89719832]\n",
      " [ 2.35982255  1.63676428  1.47292841  1.02642442]\n",
      " [-0.90045861  0.97745386 -1.3431219  -1.29964531]\n",
      " [ 0.61324336 -0.56093712  1.02236036  1.15565051]\n",
      " [-1.48265167  0.31814344 -1.3431219  -1.29964531]\n",
      " [ 0.14748891 -1.87955796  0.68443432  0.38029394]\n",
      " [-0.43470415  0.97745386 -1.39944291 -1.29964531]\n",
      " [ 0.49680475  0.53791358  1.24764439  1.6725549 ]\n",
      " [ 0.14748891 -1.87955796  0.12122426 -0.26583654]\n",
      " [-1.24977444  0.75768372 -1.06151687 -1.29964531]\n",
      " [ 2.12694533 -0.12139684  1.30396539  1.41410271]\n",
      " [ 0.26392752 -0.56093712  0.12122426  0.12184175]\n",
      " [-0.20182693 -1.22024754  0.68443432  1.02642442]\n",
      " [-0.08538832 -0.78070726  0.06490325 -0.00738435]\n",
      " [-1.59909028 -1.65978782 -1.39944291 -1.17041921]\n",
      " [-0.43470415 -1.44001768 -0.04773876 -0.26583654]\n",
      " [ 0.61324336  0.0983733   0.96603936  0.76797223]\n",
      " [ 0.26392752 -0.12139684  0.4591503   0.25106784]\n",
      " [ 0.49680475 -0.34116698  1.02236036  0.76797223]\n",
      " [-0.90045861  0.75768372 -1.2868009  -1.29964531]\n",
      " [-0.20182693 -0.34116698  0.23386627  0.12184175]\n",
      " [-1.01689722  1.197224   -1.3431219  -1.29964531]\n",
      " [ 0.9625592   0.0983733   0.51547131  0.38029394]\n",
      " [ 1.07899781 -0.56093712  0.57179231  0.25106784]\n",
      " [-0.78401999 -0.78070726  0.06490325  0.25106784]\n",
      " [ 1.54475226  1.197224    1.30396539  1.6725549 ]\n",
      " [ 0.14748891 -0.78070726  0.74075533  0.50952003]\n",
      " [ 0.61324336 -0.34116698  0.29018728  0.12184175]\n",
      " [ 0.49680475  0.75768372  1.02236036  1.5433288 ]\n",
      " [-0.31826554 -0.56093712  0.62811332  1.02642442]\n",
      " [-1.13333583  0.0983733  -1.2868009  -1.29964531]\n",
      " [ 1.19543642  0.31814344  1.07868137  1.41410271]\n",
      " [ 0.72968197 -0.56093712  0.4591503   0.38029394]\n",
      " [-0.31826554 -0.12139684  0.17754527  0.12184175]\n",
      " [ 2.12694533 -1.0004774   1.75453345  1.41410271]\n",
      " [-0.78401999  2.2960747  -1.2868009  -1.4288714 ]\n",
      " [ 0.61324336  0.31814344  0.85339734  1.41410271]\n",
      " [ 0.0310503  -0.12139684  0.74075533  0.76797223]\n",
      " [ 0.49680475 -1.65978782  0.34650829  0.12184175]\n",
      " [-1.24977444  0.0983733  -1.23047989 -1.29964531]\n",
      " [ 2.12694533  1.63676428  1.64189143  1.28487661]\n",
      " [ 1.07899781 -0.12139684  0.96603936  1.15565051]\n",
      " [-0.90045861  1.63676428 -1.06151687 -1.04119311]\n",
      " [-1.83196751 -0.12139684 -1.51208492 -1.4288714 ]\n",
      " [ 0.38036614 -0.56093712  0.57179231  0.76797223]\n",
      " [ 1.54475226 -0.12139684  1.13500238  0.50952003]\n",
      " [-0.08538832 -0.56093712  0.74075533  1.5433288 ]\n",
      " [-0.55114277  1.85653442 -1.17415888 -1.04119311]\n",
      " [-0.08538832 -0.78070726  0.74075533  0.89719832]\n",
      " [-1.01689722 -2.31909824 -0.16038077 -0.26583654]\n",
      " [ 0.9625592   0.53791358  1.07868137  1.15565051]\n",
      " [ 1.77762949 -0.56093712  1.30396539  0.89719832]\n",
      " [-0.66758138  1.41699414 -1.2868009  -1.29964531]\n",
      " [ 0.26392752 -0.56093712  0.51547131 -0.00738435]\n",
      " [-0.43470415 -1.0004774   0.34650829 -0.00738435]\n",
      " [ 1.31187504  0.31814344  0.51547131  0.25106784]\n",
      " [ 0.49680475 -1.22024754  0.62811332  0.38029394]\n",
      " [ 0.0310503  -0.12139684  0.23386627  0.38029394]\n",
      " [-0.78401999  0.97745386 -1.2868009  -1.29964531]\n",
      " [ 1.19543642  0.0983733   0.90971835  1.15565051]\n",
      " [-0.08538832 -1.0004774   0.12122426 -0.00738435]\n",
      " [-0.08538832 -0.78070726  0.74075533  0.89719832]\n",
      " [-1.24977444  0.75768372 -1.23047989 -1.29964531]\n",
      " [-1.13333583  1.197224   -1.3431219  -1.4288714 ]\n",
      " [-0.20182693 -1.0004774  -0.16038077 -0.26583654]\n",
      " [-0.43470415  2.51584484 -1.3431219  -1.29964531]\n",
      " [-0.31826554 -0.78070726  0.23386627  0.12184175]\n",
      " [-1.48265167  0.0983733  -1.2868009  -1.29964531]]\n"
     ]
    }
   ],
   "source": [
    "from sklearn.preprocessing import StandardScaler\n",
    "\n",
    "scaler = StandardScaler()\n",
    "X_train_scaled = scaler.fit_transform(X_train)\n"
   ]
  },
  {
   "cell_type": "code",
   "execution_count": 40,
   "metadata": {},
   "outputs": [
    {
     "name": "stdout",
     "output_type": "stream",
     "text": [
      "資料集 X 的平均值 :  [5.87333333 3.0552381  3.7847619  1.20571429]\n",
      "資料集 X 的標準差 :  [0.85882164 0.45502087 1.77553646 0.77383751]\n",
      "\n",
      "StandardScaler 縮放過後訓練集的平均值 :  [ 0. -0. -0. -0.]\n",
      "StandardScaler 縮放過後訓練集的標準差 :  [1. 1. 1. 1.]\n"
     ]
    }
   ],
   "source": [
    "# scaled之後的資料零均值，單位方差  \n",
    "print('資料集 X 的平均值 : ', X_train.mean(axis=0))\n",
    "print('資料集 X 的標準差 : ', X_train.std(axis=0))\n",
    "\n",
    "print('\\nStandardScaler 縮放過後訓練集的平均值 : ', X_train_scaled.mean(axis=0))\n",
    "print('StandardScaler 縮放過後訓練集的標準差 : ', X_train_scaled.std(axis=0))"
   ]
  },
  {
   "cell_type": "code",
   "execution_count": 8,
   "metadata": {},
   "outputs": [
    {
     "name": "stdout",
     "output_type": "stream",
     "text": [
      "\n",
      "StandardScaler 縮放過後測試集的平均值 :  [-0.11643861  0.01534903 -0.05024191 -0.02748619]\n",
      "StandardScaler 縮放過後測試集的標準差 :  [0.85754489 0.83947065 0.96847064 0.9374037 ]\n"
     ]
    }
   ],
   "source": [
    "X_test_scaled = scaler.transform(X_test)\n",
    "\n",
    "print('\\nStandardScaler 縮放過後測試集的平均值 : ', X_test_scaled.mean(axis=0))\n",
    "print('StandardScaler 縮放過後測試集的標準差 : ', X_test_scaled.std(axis=0))"
   ]
  },
  {
   "cell_type": "code",
   "execution_count": 9,
   "metadata": {},
   "outputs": [],
   "source": [
    "# 將縮放的資料還原\n",
    "X_test_inverse = scaler.inverse_transform(X_test_scaled)"
   ]
  },
  {
   "cell_type": "code",
   "execution_count": 45,
   "metadata": {},
   "outputs": [
    {
     "name": "stdout",
     "output_type": "stream",
     "text": [
      "[5.77333333 3.06222222 3.69555556 1.18444444]\n",
      "[0.73647811 0.38197667 1.71955492 0.72539815]\n",
      "[[7.3 2.9 6.3 1.8]\n",
      " [6.1 2.9 4.7 1.4]\n",
      " [6.3 2.8 5.1 1.5]]\n"
     ]
    }
   ],
   "source": [
    "print(X_test_inverse.mean(axis=0))\n",
    "print(X_test_inverse.std(axis=0))\n",
    "print(X_test_inverse[:3])"
   ]
  },
  {
   "cell_type": "code",
   "execution_count": 11,
   "metadata": {},
   "outputs": [
    {
     "data": {
      "text/plain": [
       "array([[7.3, 2.9, 6.3, 1.8],\n",
       "       [6.1, 2.9, 4.7, 1.4],\n",
       "       [6.3, 2.8, 5.1, 1.5]])"
      ]
     },
     "execution_count": 11,
     "metadata": {},
     "output_type": "execute_result"
    }
   ],
   "source": [
    "X_test[:3]"
   ]
  },
  {
   "cell_type": "markdown",
   "metadata": {},
   "source": [
    "#### MinMaxScaler最小最大值標準化\n",
    "在MinMaxScaler中是給定了一個明確的最大值與最小值。每個特徵中的最小值變成了0，最大值變成了1。數據會縮放到到[0,1]之間。"
   ]
  },
  {
   "cell_type": "code",
   "execution_count": 12,
   "metadata": {},
   "outputs": [],
   "source": [
    "from sklearn.preprocessing import MinMaxScaler\n",
    "\n",
    "scaler = MinMaxScaler()\n",
    "X_train_scaled = scaler.fit_transform(X_train)"
   ]
  },
  {
   "cell_type": "code",
   "execution_count": 13,
   "metadata": {},
   "outputs": [
    {
     "name": "stdout",
     "output_type": "stream",
     "text": [
      "資料集 X 的最小值 :  [4.3 2.  1.1 0.1]\n",
      "資料集 X 的最大值 :  [7.9 4.4 6.9 2.5]\n",
      "\n",
      "StandardScaler 縮放過後訓練集的最小值 :  [0. 0. 0. 0.]\n",
      "StandardScaler 縮放過後訓練集的最大值 :  [1. 1. 1. 1.]\n"
     ]
    }
   ],
   "source": [
    "# scaled 之後的資料最小值、最大值  \n",
    "print('資料集 X 的最小值 : ', X_train.min(axis=0))\n",
    "print('資料集 X 的最大值 : ', X_train.max(axis=0))\n",
    "\n",
    "print('\\nStandardScaler 縮放過後訓練集的最小值 : ', X_train_scaled.min(axis=0))\n",
    "print('StandardScaler 縮放過後訓練集的最大值 : ', X_train_scaled.max(axis=0))"
   ]
  },
  {
   "cell_type": "code",
   "execution_count": 14,
   "metadata": {},
   "outputs": [
    {
     "name": "stdout",
     "output_type": "stream",
     "text": [
      "\n",
      "StandardScaler 縮放過後測試集的最小值 :  [ 0.02777778  0.125      -0.01724138  0.04166667]\n",
      "StandardScaler 縮放過後測試集的最大值 :  [0.83333333 0.83333333 0.89655172 0.95833333]\n"
     ]
    }
   ],
   "source": [
    "X_test_scaled = scaler.transform(X_test)\n",
    "\n",
    "print('\\nStandardScaler 縮放過後測試集的最小值 : ', X_test_scaled.min(axis=0))\n",
    "print('StandardScaler 縮放過後測試集的最大值 : ', X_test_scaled.max(axis=0))"
   ]
  },
  {
   "cell_type": "markdown",
   "metadata": {},
   "source": [
    "### MaxAbsScaler絕對值最大標準化\n",
    "MaxAbsScaler 與 MinMaxScaler 類似，所有數據都會除以該列絕對值後的最大值。\n",
    "數據會縮放到到[-1,1]之間。"
   ]
  },
  {
   "cell_type": "code",
   "execution_count": 15,
   "metadata": {},
   "outputs": [],
   "source": [
    "from sklearn.preprocessing import MaxAbsScaler\n",
    "\n",
    "scaler = MaxAbsScaler().fit(X)\n",
    "X_scaled = scaler.transform(X)"
   ]
  },
  {
   "cell_type": "code",
   "execution_count": 16,
   "metadata": {},
   "outputs": [],
   "source": [
    "X_test_scaled = scaler.transform(X_test)"
   ]
  },
  {
   "cell_type": "markdown",
   "metadata": {},
   "source": [
    "## RobustScaler\n",
    "可以有效的縮放帶有outlier的數據，透過Robust如果數據中含有異常值在縮放中會捨去。"
   ]
  },
  {
   "cell_type": "code",
   "execution_count": 17,
   "metadata": {},
   "outputs": [],
   "source": [
    "from sklearn.preprocessing import RobustScaler\n",
    "\n",
    "scaler = RobustScaler().fit(X)\n",
    "X_scaled = scaler.transform(X)"
   ]
  },
  {
   "cell_type": "code",
   "execution_count": 18,
   "metadata": {},
   "outputs": [],
   "source": [
    "X_test_scaled = scaler.transform(X_test)"
   ]
  },
  {
   "cell_type": "code",
   "execution_count": null,
   "metadata": {},
   "outputs": [],
   "source": []
  }
 ],
 "metadata": {
  "kernelspec": {
   "display_name": "Python 3",
   "language": "python",
   "name": "python3"
  },
  "language_info": {
   "codemirror_mode": {
    "name": "ipython",
    "version": 3
   },
   "file_extension": ".py",
   "mimetype": "text/x-python",
   "name": "python",
   "nbconvert_exporter": "python",
   "pygments_lexer": "ipython3",
   "version": "3.7.6"
  }
 },
 "nbformat": 4,
 "nbformat_minor": 4
}
