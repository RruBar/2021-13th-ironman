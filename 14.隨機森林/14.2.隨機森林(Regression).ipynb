{
 "cells": [
  {
   "cell_type": "markdown",
   "metadata": {},
   "source": [
    "## Example 1 (簡單線性回歸)\n",
    "先從簡單的線性回歸舉例，![](https://chart.googleapis.com/chart?cht=tx&chl=y%20%3D%20ax%20%2B%20b) ，![](https://chart.googleapis.com/chart?cht=tx&chl=a) 稱為斜率，![](https://chart.googleapis.com/chart?cht=tx&chl=b) 稱為截距。"
   ]
  },
  {
   "cell_type": "code",
   "execution_count": 2,
   "metadata": {},
   "outputs": [
    {
     "data": {
      "image/png": "[encoded data removed]",
      "text/plain": [
       "<Figure size 432x288 with 1 Axes>"
      ]
     },
     "metadata": {
      "needs_background": "light"
     },
     "output_type": "display_data"
    }
   ],
   "source": [
    "# imports\n",
    "import numpy as np\n",
    "import matplotlib.pyplot as plt\n",
    "\n",
    "# 亂數產生資料\n",
    "np.random.seed(0)\n",
    "noise = np.random.rand(100, 1)\n",
    "x = np.random.rand(100, 1)\n",
    "\n",
    "y = (3 * x + 15 + noise).ravel()\n",
    "# ravel()為np裡面將多維數據轉為1維數據的方法\n",
    "# y=ax+b Target function  a=3, b=15\n",
    "\n",
    "# plot\n",
    "plt.scatter(x,y,s=10)\n",
    "plt.xlabel('x')\n",
    "plt.ylabel('y')\n",
    "plt.show()"
   ]
  },
  {
   "cell_type": "markdown",
   "metadata": {},
   "source": [
    "## 隨機森林(回歸器)\n",
    "隨機森林其實就是進階版的決策樹。隨機森林是使用 Bagging + 隨機特徵的技術所產生出來的 Ensemble learning 演算法。\n",
    "\n",
    "Parameters:\n",
    "- n_estimators: 森林中樹木的數量，預設=100。\n",
    "- max_features: 劃分時考慮的最大特徵數，預設auto。\n",
    "- criterion: 評估切割點指標，mse/mae。\n",
    "- max_depth: 樹的最大深度。\n",
    "- splitter: 特徵劃分點選擇標準，best/random。預設為best。\n",
    "- random_state: 亂數種子，確保每次訓練結果都一樣，splitter=random 才有用。\n",
    "- min_samples_split: 至少有多少資料才能再分\n",
    "- min_samples_leaf: 分完至少有多少資料才能分\n",
    "\n",
    "Attributes:\n",
    "- feature_importances_: 查詢模型特徵的重要程度。\n",
    "\n",
    "Methods:\n",
    "- fit: 放入X、y進行模型擬合。\n",
    "- predict: 預測並回傳預測。\n",
    "- score: 預測成功的比例。\n",
    "- get_depth: 取得樹的深度。"
   ]
  },
  {
   "cell_type": "code",
   "execution_count": 6,
   "metadata": {},
   "outputs": [
    {
     "name": "stderr",
     "output_type": "stream",
     "text": [
      "c:\\Users\\User\\AppData\\Local\\Programs\\Python\\Python39\\lib\\site-packages\\sklearn\\ensemble\\_forest.py:400: FutureWarning: Criterion 'mse' was deprecated in v1.0 and will be removed in version 1.2. Use `criterion='squared_error'` which is equivalent.\n",
      "  warn(\n"
     ]
    }
   ],
   "source": [
    "from sklearn.ensemble import RandomForestRegressor\n",
    "\n",
    "# 建立RandomForestRegressor模型\n",
    "randomForestModel = RandomForestRegressor(n_estimators=100, criterion = 'mse')\n",
    "# 使用訓練資料訓練模型\n",
    "randomForestModel.fit(x, y)\n",
    "# 使用訓練資料預測\n",
    "predicted=randomForestModel.predict(x)"
   ]
  },
  {
   "cell_type": "markdown",
   "metadata": {},
   "source": [
    "### 模型評估\n",
    "scikit-learn 決策樹迴歸模型的score函式是R2 score，可作為模型評估依據，其數值越接近於1代表模型越佳。\n",
    "除了R2 score還有其他許多回歸模型的評估方法，例如： MSE、MAE、RMSE。"
   ]
  },
  {
   "cell_type": "code",
   "execution_count": 11,
   "metadata": {},
   "outputs": [
    {
     "name": "stdout",
     "output_type": "stream",
     "text": [
      "R2 score:  0.9784857320123348\n",
      "MSE score:  0.22351080018595604\n"
     ]
    }
   ],
   "source": [
    "from sklearn import metrics\n",
    "print('R2 score: ', randomForestModel.score(x, y))\n",
    "mse = metrics.mean_squared_error(y, predicted)\n",
    "print('MSE score: ', mse)"
   ]
  },
  {
   "cell_type": "code",
   "execution_count": 15,
   "metadata": {},
   "outputs": [
    {
     "name": "stdout",
     "output_type": "stream",
     "text": [
      "n_estimators = 100,  MSE:  0.017301098677356408\n"
     ]
    },
    {
     "data": {
      "image/png": "[encoded data removed]",
      "text/plain": [
       "<Figure size 432x288 with 1 Axes>"
      ]
     },
     "metadata": {
      "needs_background": "light"
     },
     "output_type": "display_data"
    }
   ],
   "source": [
    "# plot\n",
    "print('n_estimators = 100,  MSE: ', mse)\n",
    "plt.scatter(x, y, s=10, label='True')\n",
    "plt.scatter(x, predicted, color=\"r\",s=10, label='Predicted')\n",
    "plt.xlabel('x')\n",
    "plt.ylabel('y')\n",
    "plt.legend()\n",
    "plt.show()"
   ]
  },
  {
   "cell_type": "markdown",
   "metadata": {},
   "source": [
    "## 非線性回歸\n",
    "上面的例子資料都很均勻分布在一條直線上，但現實的資料可能並只會發生在一條線上。下面示範一個多項次的回歸模型例子。"
   ]
  },
  {
   "cell_type": "code",
   "execution_count": 4,
   "metadata": {},
   "outputs": [
    {
     "name": "stdout",
     "output_type": "stream",
     "text": [
      "(40, 1)\n",
      "(40,)\n"
     ]
    }
   ],
   "source": [
    "x = np.array([[1.40280301e-01],[9.03857692e-01],[5.35815131e-01],[3.58391981e-01],[2.43418162e-02],[2.43342904e-02],[3.37370600e-03],[7.50261116e-01],[3.61339257e-01],[5.01366775e-01],[4.23721405e-04],[9.40725121e-01],[6.92960750e-01],[4.50878979e-02],[3.30603187e-02],[3.36372142e-02],[9.25633424e-02],[2.75369313e-01],[1.86576499e-01],[8.48144121e-02],[3.74363965e-01],[1.94585372e-02],[8.53484957e-02],[1.34221000e-01],[2.07999831e-01],[6.16501290e-01],[3.98696193e-02],[2.64437058e-01],[3.50955021e-01],[2.15764084e-03],[3.69110747e-01],[2.90784768e-02],[4.23170975e-03],[9.00383763e-01],[9.32445223e-01],[6.53506272e-01],[9.27895484e-02],[9.53984185e-03],[4.68174835e-01],[1.93734218e-01]])\n",
    "y = np.array([ 5.82469676e+00,  7.94613194e+00,  9.24976070e+00,  6.59761731e+00,\n",
    "        2.16651685e+00, -2.50365745e-03, -1.00182588e+00,  9.02075194e+00,\n",
    "        8.57086436e+00,  8.50848958e+00, -7.34549241e-02,  8.73802779e+00,\n",
    "        7.26038154e+00,  2.38778217e+00,  2.02397265e+00,  3.57417666e+00,\n",
    "        5.15052189e+00,  5.57291682e+00,  6.83461431e+00,  4.20408429e+00,\n",
    "        7.21499207e+00,  2.24057093e+00,  5.63575746e+00,  6.66180813e+00,\n",
    "        5.91402744e+00,  8.29511673e+00,  3.18174801e+00,  8.23158707e+00,\n",
    "        7.30330971e+00,  2.55480191e-02,  6.76197223e+00,  1.05656839e+00,\n",
    "        1.21851645e+00,  1.03566236e+01,  8.95941549e+00,  9.67640393e+00,\n",
    "        5.17463285e+00,  2.25781800e-01,  8.60137397e+00,  8.13359834e+00])\n"
   ]
  },
  {
   "cell_type": "code",
   "execution_count": 9,
   "metadata": {},
   "outputs": [
    {
     "name": "stderr",
     "output_type": "stream",
     "text": [
      "c:\\Users\\User\\AppData\\Local\\Programs\\Python\\Python39\\lib\\site-packages\\sklearn\\ensemble\\_forest.py:400: FutureWarning: Criterion 'mse' was deprecated in v1.0 and will be removed in version 1.2. Use `criterion='squared_error'` which is equivalent.\n",
      "  warn(\n"
     ]
    },
    {
     "data": {
      "text/plain": [
       "<matplotlib.legend.Legend at 0x1659483c2b0>"
      ]
     },
     "execution_count": 9,
     "metadata": {},
     "output_type": "execute_result"
    },
    {
     "data": {
      "image/png": "[encoded data removed]",
      "text/plain": [
       "<Figure size 432x288 with 1 Axes>"
      ]
     },
     "metadata": {
      "needs_background": "light"
     },
     "output_type": "display_data"
    }
   ],
   "source": [
    "\n",
    "randomForestModel = RandomForestRegressor(n_estimators=100, criterion = 'mse')\n",
    "randomForestModel.fit(x, y)\n",
    "\n",
    "\n",
    "\n",
    "x_test = np.linspace(-0.1,1.1,500)[:,None]\n",
    "# np.linspace的功能，是用於產生一段等差數列\n",
    "# numpy.linspace(start, stop, num=50, endpoint=True, retstep=False, dtype=None, axis=0)\n",
    "\n",
    "predicted=randomForestModel.predict(x_test)\n",
    "plt.scatter(x.ravel(),y)\n",
    "plt.plot(x_test,predicted,label='n_estimators=100', color='r')\n",
    "plt.legend(loc='best')\n"
   ]
  },
  {
   "cell_type": "code",
   "execution_count": 12,
   "metadata": {},
   "outputs": [
    {
     "name": "stderr",
     "output_type": "stream",
     "text": [
      "c:\\Users\\User\\AppData\\Local\\Programs\\Python\\Python39\\lib\\site-packages\\sklearn\\ensemble\\_forest.py:400: FutureWarning: Criterion 'mse' was deprecated in v1.0 and will be removed in version 1.2. Use `criterion='squared_error'` which is equivalent.\n",
      "  warn(\n"
     ]
    },
    {
     "name": "stdout",
     "output_type": "stream",
     "text": [
      "n_estimators = 100,  MSE:  0.21989930731071192\n"
     ]
    },
    {
     "data": {
      "image/png": "[encoded data removed]",
      "text/plain": [
       "<Figure size 432x288 with 1 Axes>"
      ]
     },
     "metadata": {
      "needs_background": "light"
     },
     "output_type": "display_data"
    }
   ],
   "source": [
    "randomForestModel = RandomForestRegressor(n_estimators=100, criterion = 'mse')\n",
    "randomForestModel.fit(x, y)\n",
    "predicted=randomForestModel.predict(x)\n",
    "\n",
    "mse = metrics.mean_squared_error(y, predicted)\n",
    "\n",
    "print('n_estimators = 100,  MSE: ', mse)\n",
    "plt.scatter(x.ravel(),y, label='True')\n",
    "plt.scatter(x.ravel(), predicted, color=\"r\", label='Predicted', s=15)\n",
    "plt.legend(loc='best')\n",
    "plt.xlabel('x')\n",
    "plt.ylabel('y')\n",
    "plt.show()"
   ]
  },
  {
   "cell_type": "code",
   "execution_count": null,
   "metadata": {},
   "outputs": [],
   "source": []
  },
  {
   "cell_type": "code",
   "execution_count": null,
   "metadata": {},
   "outputs": [],
   "source": []
  }
 ],
 "metadata": {
  "kernelspec": {
   "display_name": "Python 3.9.9 64-bit",
   "language": "python",
   "name": "python3"
  },
  "language_info": {
   "codemirror_mode": {
    "name": "ipython",
    "version": 3
   },
   "file_extension": ".py",
   "mimetype": "text/x-python",
   "name": "python",
   "nbconvert_exporter": "python",
   "pygments_lexer": "ipython3",
   "version": "3.9.9"
  },
  "vscode": {
   "interpreter": {
    "hash": "cf92aa13fedf815d5c8dd192b8d835913fde3e8bc926b2a0ad6cc74ef2ba3ca2"
   }
  }
 },
 "nbformat": 4,
 "nbformat_minor": 4
}
